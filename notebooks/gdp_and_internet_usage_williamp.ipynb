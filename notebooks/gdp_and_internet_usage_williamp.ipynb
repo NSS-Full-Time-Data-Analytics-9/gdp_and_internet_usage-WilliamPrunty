{
 "cells": [
  {
   "cell_type": "code",
   "execution_count": null,
   "id": "9f0ea6fa",
   "metadata": {},
   "outputs": [],
   "source": [
    "import pandas as pd\n",
    "import numpy as np\n",
    "import matplotlib.pyplot as plt\n",
    "import seaborn as sns"
   ]
  },
  {
   "cell_type": "markdown",
   "id": "932e8ed5",
   "metadata": {},
   "source": [
    "Above code is importing necessary modules for the exercise."
   ]
  },
  {
   "cell_type": "code",
   "execution_count": null,
   "id": "b5616b65",
   "metadata": {},
   "outputs": [],
   "source": [
    "gdp_df = pd.read_csv(\"..\\data\\gdp_percapita.csv\")\n",
    "gdp_df"
   ]
  },
  {
   "cell_type": "markdown",
   "id": "6b9ae9b6",
   "metadata": {},
   "source": [
    "Above code is importing the appropriate .csv where '..' symbolizes the need to move up in the file structure to search for the needed file. \n",
    "\n",
    "Code below is finding the layout of the DataFrame where the first number represents number of rows and the second represents number of columns. "
   ]
  },
  {
   "cell_type": "code",
   "execution_count": null,
   "id": "d332b2c3",
   "metadata": {},
   "outputs": [],
   "source": [
    "gdp_df.shape"
   ]
  },
  {
   "cell_type": "markdown",
   "id": "10051f15",
   "metadata": {},
   "source": [
    "#### How many rows and columns are in `gdp_df`? What are the data types of each column?\n",
    "\n",
    "7176 rows and 4 columns."
   ]
  },
  {
   "cell_type": "code",
   "execution_count": null,
   "id": "1ea2fb87",
   "metadata": {},
   "outputs": [],
   "source": [
    "gdp_df = gdp_df.drop(columns = [\"Value Footnotes\"])"
   ]
  },
  {
   "cell_type": "markdown",
   "id": "69bc80a7",
   "metadata": {},
   "source": [
    "Above code is dropping the \"Value Footnotes\" column."
   ]
  },
  {
   "cell_type": "code",
   "execution_count": null,
   "id": "c9bec92d",
   "metadata": {},
   "outputs": [],
   "source": [
    "gdp_df.columns = ['Country', 'Year', 'GDP_Per_capita']"
   ]
  },
  {
   "cell_type": "code",
   "execution_count": null,
   "id": "44cfa456",
   "metadata": {},
   "outputs": [],
   "source": [
    "gdp_df"
   ]
  },
  {
   "cell_type": "markdown",
   "id": "f0590f2f",
   "metadata": {},
   "source": [
    "Above code is renaming the columns and displaying the new DataFrame"
   ]
  },
  {
   "cell_type": "code",
   "execution_count": null,
   "id": "45a21ced",
   "metadata": {},
   "outputs": [],
   "source": [
    "years = set(list(gdp_df.Year))\n",
    "print(years)\n",
    "len(years)"
   ]
  },
  {
   "cell_type": "markdown",
   "id": "38ba0ddf",
   "metadata": {},
   "source": [
    "Above code creates a set of all unique years in the DataFrame and the count of values in the set."
   ]
  },
  {
   "cell_type": "code",
   "execution_count": null,
   "id": "92bdc1e5",
   "metadata": {},
   "outputs": [],
   "source": [
    "year_counts = gdp_df.Country.value_counts()"
   ]
  },
  {
   "cell_type": "markdown",
   "id": "b870c0cf",
   "metadata": {},
   "source": [
    "Above code starts the structuring of a new DataFrame indicating year counts."
   ]
  },
  {
   "cell_type": "code",
   "execution_count": null,
   "id": "b7747fa2",
   "metadata": {},
   "outputs": [],
   "source": [
    "year_counts = year_counts.to_frame()"
   ]
  },
  {
   "cell_type": "code",
   "execution_count": null,
   "id": "af294273",
   "metadata": {},
   "outputs": [],
   "source": [
    "year_counts = year_counts.reset_index()"
   ]
  },
  {
   "cell_type": "code",
   "execution_count": null,
   "id": "3031d3e0",
   "metadata": {},
   "outputs": [],
   "source": [
    "year_counts.columns = ['country', 'year_count']"
   ]
  },
  {
   "cell_type": "markdown",
   "id": "d7031883",
   "metadata": {},
   "source": [
    "Above code finishes organizing and re-labeling new DataFrame 'year_counts'"
   ]
  },
  {
   "cell_type": "code",
   "execution_count": null,
   "id": "c24e602b",
   "metadata": {},
   "outputs": [],
   "source": [
    "missing_year_mask = year_counts['year_count'] != len(years)"
   ]
  },
  {
   "cell_type": "markdown",
   "id": "08284958",
   "metadata": {},
   "source": [
    "Above code creates the mask to filter countries that aren't present in every year."
   ]
  },
  {
   "cell_type": "code",
   "execution_count": null,
   "id": "d2138928",
   "metadata": {
    "scrolled": false
   },
   "outputs": [],
   "source": [
    "missing_years = year_counts[missing_year_mask]\n",
    "print('Countries missing data for all years', missing_years.country.count())"
   ]
  },
  {
   "cell_type": "markdown",
   "id": "f8da058c",
   "metadata": {},
   "source": [
    "Above code masks the year_counts DataFrame to countries with a year_count not equal to 31 and returns the count of countries in the list."
   ]
  },
  {
   "cell_type": "code",
   "execution_count": null,
   "id": "b3463a26",
   "metadata": {},
   "outputs": [],
   "source": [
    "print(\"Countries with complete data:\", year_counts.country.count() - missing_years.country.count())"
   ]
  },
  {
   "cell_type": "markdown",
   "id": "bd497fe4",
   "metadata": {},
   "source": [
    "Above code block subtracts the years missing data from the total count of countries in the data set."
   ]
  },
  {
   "cell_type": "code",
   "execution_count": null,
   "id": "9e88690d",
   "metadata": {
    "scrolled": true
   },
   "outputs": [],
   "source": [
    "print(\"Years present in the data:\", len(years))"
   ]
  },
  {
   "cell_type": "markdown",
   "id": "662d5138",
   "metadata": {},
   "source": [
    "Above code block counts the number of years present in a previously created set of all years."
   ]
  },
  {
   "cell_type": "code",
   "execution_count": null,
   "id": "281189da",
   "metadata": {},
   "outputs": [],
   "source": [
    "missing_years"
   ]
  },
  {
   "cell_type": "markdown",
   "id": "f94226a2",
   "metadata": {},
   "source": [
    "#### 7. How many countries have data for all years? Which countries are missing many years of data? Look at the number of observations per year. What do you notice? \n",
    "\n",
    "37 countries are missing data, 205 countries have data for all 31 years in the data. \n",
    "\n",
    "The majority of countries have entries for all years. It seems that the countries missing data were not a part of the UN during a portion of the dataset. "
   ]
  },
  {
   "cell_type": "code",
   "execution_count": null,
   "id": "ed7db1a9",
   "metadata": {},
   "outputs": [],
   "source": [
    "mask_2020 = gdp_df['Year'] == 2020"
   ]
  },
  {
   "cell_type": "markdown",
   "id": "ee0f6054",
   "metadata": {},
   "source": [
    "Creating a mask for information in the year 2020."
   ]
  },
  {
   "cell_type": "code",
   "execution_count": null,
   "id": "d6f5dca8",
   "metadata": {},
   "outputs": [],
   "source": [
    "gdp2020_df = gdp_df[mask_2020]\n",
    "gdp2020_df"
   ]
  },
  {
   "cell_type": "code",
   "execution_count": null,
   "id": "c41b1c36",
   "metadata": {},
   "outputs": [],
   "source": [
    "type(gdp2020_df)"
   ]
  },
  {
   "cell_type": "markdown",
   "id": "da142010",
   "metadata": {},
   "source": [
    "Masking the gdp_df DataFrame to display just the year 2020, checking data type."
   ]
  },
  {
   "cell_type": "code",
   "execution_count": null,
   "id": "3560038b",
   "metadata": {},
   "outputs": [],
   "source": [
    "sns.histplot(data=gdp2020_df, x=\"GDP_Per_capita\")\n",
    "plt.show()"
   ]
  },
  {
   "cell_type": "markdown",
   "id": "e3c9b267",
   "metadata": {},
   "source": [
    "Plotting a histogram for 2020 GDP_Per_capita."
   ]
  },
  {
   "cell_type": "code",
   "execution_count": null,
   "id": "ede22833",
   "metadata": {},
   "outputs": [],
   "source": [
    "sns.kdeplot(gdp2020_df['GDP_Per_capita'])\n",
    "plt.show()"
   ]
  },
  {
   "cell_type": "markdown",
   "id": "9442162d",
   "metadata": {},
   "source": [
    "Plotting a density plot for 2020 GDP_Per_capita."
   ]
  },
  {
   "cell_type": "code",
   "execution_count": null,
   "id": "ff3b82a0",
   "metadata": {},
   "outputs": [],
   "source": [
    "sns.boxplot( x=gdp2020_df[\"Year\"], y=gdp2020_df[\"GDP_Per_capita\"] )\n",
    "plt.show()"
   ]
  },
  {
   "cell_type": "markdown",
   "id": "36d4b923",
   "metadata": {},
   "source": [
    "Creating boxplot for 2020 GDP_Per_capita"
   ]
  },
  {
   "cell_type": "code",
   "execution_count": null,
   "id": "57f94333",
   "metadata": {},
   "outputs": [],
   "source": [
    "sns.violinplot( x=gdp2020_df[\"Year\"], y=gdp2020_df[\"GDP_Per_capita\"] )\n",
    "plt.show()"
   ]
  },
  {
   "cell_type": "markdown",
   "id": "5d962522",
   "metadata": {},
   "source": [
    "Creating a violin plot for 2020 GDP_Per_capita"
   ]
  },
  {
   "cell_type": "markdown",
   "id": "5461426e",
   "metadata": {},
   "source": [
    "#### 8. In this question, you're going to create some plots to show the distribution of GDP per capita for the year 2020. Go to the Python Graph Gallery (https://www.python-graph-gallery.com/) and look at the different types of plots under the Distribution section. Create a histogram, a density plot, a boxplot, and a violin plot. What do you notice when you look at these plots? How do the plots compare and what information can you get out of one type that you can't necessarily get out of the others?\n",
    "\n",
    "Boxplot and histogram do not show negative values by default.Density plot shows lists the density of the variable instead of the count or visual representation of the count. "
   ]
  },
  {
   "cell_type": "code",
   "execution_count": null,
   "id": "df8566c6",
   "metadata": {},
   "outputs": [],
   "source": [
    "print(\"The median GDP_Per_capita for 2020 is\", gdp2020_df.GDP_Per_capita.median())"
   ]
  },
  {
   "cell_type": "markdown",
   "id": "117d038c",
   "metadata": {},
   "source": [
    "#### 9. What was the median GDP per capita value in 2020?\n",
    "\n",
    "The median gdp value in 2020 is 12908.9374056206."
   ]
  },
  {
   "cell_type": "code",
   "execution_count": null,
   "id": "9f5a8181",
   "metadata": {},
   "outputs": [],
   "source": [
    "gdp_decades = gdp_df[(gdp_df.Year == 2020) | (gdp_df.Year == 2010) | (gdp_df.Year == 2000) | (gdp_df.Year == 1990)]\n"
   ]
  },
  {
   "cell_type": "markdown",
   "id": "add7777b",
   "metadata": {},
   "source": [
    "Above code subsets the gdp_df DataFrame to a new frame called gdp_decades using the | operator to signify the 'or' condition. \n",
    "\n",
    "When filtering for multiple conditions:\n",
    "\n",
    "| = or, & = and, ~ = not "
   ]
  },
  {
   "cell_type": "code",
   "execution_count": null,
   "id": "3e99dec6",
   "metadata": {},
   "outputs": [],
   "source": [
    "gdp_decades"
   ]
  },
  {
   "cell_type": "code",
   "execution_count": null,
   "id": "c73a6d8e",
   "metadata": {},
   "outputs": [],
   "source": [
    "sns.boxplot( x=gdp_decades[\"Year\"], y=gdp_decades[\"GDP_Per_capita\"] )\n",
    "plt.show()"
   ]
  },
  {
   "cell_type": "markdown",
   "id": "4fe67a72",
   "metadata": {},
   "source": [
    "Boxplot of the gdp_decades DataFrame."
   ]
  },
  {
   "cell_type": "code",
   "execution_count": null,
   "id": "ad91c4e5",
   "metadata": {},
   "outputs": [],
   "source": [
    "sns.barplot(x=gdp_decades[\"Year\"], y=gdp_decades[\"GDP_Per_capita\"])"
   ]
  },
  {
   "cell_type": "markdown",
   "id": "91da6faa",
   "metadata": {},
   "source": [
    "Barplot of the gdp_decades DataFrame."
   ]
  },
  {
   "cell_type": "code",
   "execution_count": null,
   "id": "c3441794",
   "metadata": {},
   "outputs": [],
   "source": [
    "sns.regplot(x=gdp_decades[\"Year\"], y=gdp_decades[\"GDP_Per_capita\"], fit_reg=False)"
   ]
  },
  {
   "cell_type": "markdown",
   "id": "e579de9f",
   "metadata": {},
   "source": [
    "Scatterplot without a trendline. Linear regression fit is plotted by default."
   ]
  },
  {
   "cell_type": "code",
   "execution_count": null,
   "id": "bf233cc0",
   "metadata": {},
   "outputs": [],
   "source": [
    "sns.regplot(x=gdp_decades[\"Year\"], y=gdp_decades[\"GDP_Per_capita\"])"
   ]
  },
  {
   "cell_type": "markdown",
   "id": "b402c367",
   "metadata": {},
   "source": [
    "Scatterplot with a linear regression fit plotted by default."
   ]
  },
  {
   "cell_type": "code",
   "execution_count": null,
   "id": "f57c6531",
   "metadata": {},
   "outputs": [],
   "source": []
  }
 ],
 "metadata": {
  "kernelspec": {
   "display_name": "Python 3 (ipykernel)",
   "language": "python",
   "name": "python3"
  },
  "language_info": {
   "codemirror_mode": {
    "name": "ipython",
    "version": 3
   },
   "file_extension": ".py",
   "mimetype": "text/x-python",
   "name": "python",
   "nbconvert_exporter": "python",
   "pygments_lexer": "ipython3",
   "version": "3.9.13"
  }
 },
 "nbformat": 4,
 "nbformat_minor": 5
}
