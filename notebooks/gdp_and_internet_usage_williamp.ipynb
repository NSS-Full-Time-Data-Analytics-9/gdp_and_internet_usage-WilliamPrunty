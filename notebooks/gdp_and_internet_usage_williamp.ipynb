{
 "cells": [
  {
   "cell_type": "code",
   "execution_count": null,
   "id": "9f0ea6fa",
   "metadata": {},
   "outputs": [],
   "source": [
    "import pandas as pd\n",
    "import numpy as np\n",
    "import matplotlib.pyplot as plt\n",
    "import seaborn as sns\n",
    "\n",
    "%matplotlib inline"
   ]
  },
  {
   "cell_type": "markdown",
   "id": "dd71d6b3",
   "metadata": {},
   "source": [
    "Above code is importing necessary modules for the exercise."
   ]
  },
  {
   "cell_type": "code",
   "execution_count": null,
   "id": "b5616b65",
   "metadata": {},
   "outputs": [],
   "source": [
    "gdp_df = pd.read_csv(\"..\\data\\gdp_percapita.csv\")\n",
    "gdp_df"
   ]
  },
  {
   "cell_type": "markdown",
   "id": "6b9ae9b6",
   "metadata": {},
   "source": [
    "Above code is importing the appropriate .csv where '..' symbolizes the need to move up in the file structure to search for the needed file. \n",
    "\n",
    "Code below is finding the layout of the DataFrame where the first number represents number of rows and the second represents number of columns. "
   ]
  },
  {
   "cell_type": "code",
   "execution_count": null,
   "id": "d332b2c3",
   "metadata": {},
   "outputs": [],
   "source": [
    "gdp_df.shape"
   ]
  },
  {
   "cell_type": "markdown",
   "id": "10051f15",
   "metadata": {},
   "source": [
    "#### 5. How many rows and columns are in `gdp_df`? What are the data types of each column?\n",
    "\n",
    "7176 rows and 4 columns."
   ]
  },
  {
   "cell_type": "code",
   "execution_count": null,
   "id": "1ea2fb87",
   "metadata": {},
   "outputs": [],
   "source": [
    "gdp_df = gdp_df.drop(columns = [\"Value Footnotes\"])"
   ]
  },
  {
   "cell_type": "markdown",
   "id": "69bc80a7",
   "metadata": {},
   "source": [
    "Above code is dropping the \"Value Footnotes\" column."
   ]
  },
  {
   "cell_type": "code",
   "execution_count": null,
   "id": "c9bec92d",
   "metadata": {},
   "outputs": [],
   "source": [
    "gdp_df.columns = ['Country', 'Year', 'GDP_Per_capita']"
   ]
  },
  {
   "cell_type": "code",
   "execution_count": null,
   "id": "44cfa456",
   "metadata": {},
   "outputs": [],
   "source": [
    "gdp_df"
   ]
  },
  {
   "cell_type": "markdown",
   "id": "f0590f2f",
   "metadata": {},
   "source": [
    "Above code is renaming the columns and displaying the new DataFrame"
   ]
  },
  {
   "cell_type": "code",
   "execution_count": null,
   "id": "45a21ced",
   "metadata": {},
   "outputs": [],
   "source": [
    "years = set(list(gdp_df.Year))\n",
    "print(years)\n",
    "len(years)"
   ]
  },
  {
   "cell_type": "markdown",
   "id": "38ba0ddf",
   "metadata": {},
   "source": [
    "Above code creates a set of all unique years in the DataFrame and the count of values in the set."
   ]
  },
  {
   "cell_type": "code",
   "execution_count": null,
   "id": "92bdc1e5",
   "metadata": {},
   "outputs": [],
   "source": [
    "year_counts = gdp_df.Country.value_counts()"
   ]
  },
  {
   "cell_type": "markdown",
   "id": "1ab7b15a",
   "metadata": {},
   "source": [
    "Above code starts the structuring of a new DataFrame indicating year counts."
   ]
  },
  {
   "cell_type": "code",
   "execution_count": null,
   "id": "ea61c3af",
   "metadata": {},
   "outputs": [],
   "source": [
    "year_counts = year_counts.to_frame()"
   ]
  },
  {
   "cell_type": "code",
   "execution_count": null,
   "id": "fde07aa4",
   "metadata": {},
   "outputs": [],
   "source": [
    "year_counts = year_counts.reset_index()"
   ]
  },
  {
   "cell_type": "code",
   "execution_count": null,
   "id": "ec4c0a00",
   "metadata": {},
   "outputs": [],
   "source": [
    "year_counts.columns = ['country', 'year_count']"
   ]
  },
  {
   "cell_type": "markdown",
   "id": "ae045434",
   "metadata": {},
   "source": [
    "Above code finishes organizing and re-labeling new DataFrame 'year_counts'"
   ]
  },
  {
   "cell_type": "code",
   "execution_count": null,
   "id": "521edeae",
   "metadata": {},
   "outputs": [],
   "source": [
    "missing_year_mask = year_counts['year_count'] != len(years)"
   ]
  },
  {
   "cell_type": "markdown",
   "id": "a4e1d060",
   "metadata": {},
   "source": [
    "Above code creates the mask to filter countries that aren't present in every year."
   ]
  },
  {
   "cell_type": "code",
   "execution_count": null,
   "id": "d2dc9415",
   "metadata": {
    "scrolled": false
   },
   "outputs": [],
   "source": [
    "missing_years = year_counts[missing_year_mask]\n",
    "print('Countries missing data for all years', missing_years.country.count())"
   ]
  },
  {
   "cell_type": "markdown",
   "id": "5927beae",
   "metadata": {},
   "source": [
    "Above code masks the year_counts DataFrame to countries with a year_count not equal to 31 and returns the count of countries in the list."
   ]
  },
  {
   "cell_type": "code",
   "execution_count": null,
   "id": "f68f316e",
   "metadata": {},
   "outputs": [],
   "source": [
    "print(\"Countries with complete data:\", year_counts.country.count() - missing_years.country.count())"
   ]
  },
  {
   "cell_type": "markdown",
   "id": "d131a67f",
   "metadata": {},
   "source": [
    "Above code block subtracts the years missing data from the total count of countries in the data set."
   ]
  },
  {
   "cell_type": "code",
   "execution_count": null,
   "id": "f64adf9b",
   "metadata": {
    "scrolled": true
   },
   "outputs": [],
   "source": [
    "print(\"Years present in the data:\", len(years))"
   ]
  },
  {
   "cell_type": "markdown",
   "id": "4ef2a0ab",
   "metadata": {},
   "source": [
    "Above code block counts the number of years present in a previously created set of all years."
   ]
  },
  {
   "cell_type": "code",
   "execution_count": null,
   "id": "f3f3ec12",
   "metadata": {},
   "outputs": [],
   "source": [
    "missing_years"
   ]
  },
  {
   "cell_type": "markdown",
   "id": "790b8e38",
   "metadata": {},
   "source": [
    "#### 7. How many countries have data for all years? Which countries are missing many years of data? Look at the number of observations per year. What do you notice? \n",
    "\n",
    "37 countries are missing data, 205 countries have data for all 31 years in the data. \n",
    "\n",
    "The majority of countries have entries for all years. It seems that the countries missing data were not a part of the UN during a portion of the dataset. "
   ]
  },
  {
   "cell_type": "code",
   "execution_count": null,
   "id": "2d6e5d65",
   "metadata": {},
   "outputs": [],
   "source": [
    "mask_2020 = gdp_df['Year'] == 2020"
   ]
  },
  {
   "cell_type": "markdown",
   "id": "e7d5953f",
   "metadata": {},
   "source": [
    "Creating a mask for information in the year 2020."
   ]
  },
  {
   "cell_type": "code",
   "execution_count": null,
   "id": "1c2eec19",
   "metadata": {},
   "outputs": [],
   "source": [
    "gdp2020_df = gdp_df[mask_2020]\n",
    "gdp2020_df"
   ]
  },
  {
   "cell_type": "code",
   "execution_count": null,
   "id": "8860a358",
   "metadata": {},
   "outputs": [],
   "source": [
    "type(gdp2020_df)"
   ]
  },
  {
   "cell_type": "markdown",
   "id": "1632db4f",
   "metadata": {},
   "source": [
    "Masking the gdp_df DataFrame to display just the year 2020, checking data type."
   ]
  },
  {
   "cell_type": "code",
   "execution_count": null,
   "id": "76271546",
   "metadata": {},
   "outputs": [],
   "source": [
    "sns.histplot(data=gdp2020_df, x=\"GDP_Per_capita\")\n",
    "plt.show()"
   ]
  },
  {
   "cell_type": "markdown",
   "id": "549a896d",
   "metadata": {},
   "source": [
    "Plotting a histogram for 2020 GDP_Per_capita."
   ]
  },
  {
   "cell_type": "code",
   "execution_count": null,
   "id": "b6d0a99d",
   "metadata": {},
   "outputs": [],
   "source": [
    "sns.kdeplot(gdp2020_df['GDP_Per_capita'])\n",
    "plt.show()"
   ]
  },
  {
   "cell_type": "markdown",
   "id": "9b59d7dd",
   "metadata": {},
   "source": [
    "Plotting a density plot for 2020 GDP_Per_capita."
   ]
  },
  {
   "cell_type": "code",
   "execution_count": null,
   "id": "21d04e72",
   "metadata": {},
   "outputs": [],
   "source": [
    "sns.boxplot( x=gdp2020_df[\"Year\"], y=gdp2020_df[\"GDP_Per_capita\"] )\n",
    "plt.show()"
   ]
  },
  {
   "cell_type": "markdown",
   "id": "d2c25bea",
   "metadata": {},
   "source": [
    "Creating boxplot for 2020 GDP_Per_capita"
   ]
  },
  {
   "cell_type": "code",
   "execution_count": null,
   "id": "b59e9e57",
   "metadata": {},
   "outputs": [],
   "source": [
    "sns.violinplot( x=gdp2020_df[\"Year\"], y=gdp2020_df[\"GDP_Per_capita\"] )\n",
    "plt.show()"
   ]
  },
  {
   "cell_type": "markdown",
   "id": "89a5a704",
   "metadata": {},
   "source": [
    "Creating a violin plot for 2020 GDP_Per_capita"
   ]
  },
  {
   "cell_type": "markdown",
   "id": "1b54fde7",
   "metadata": {},
   "source": [
    "#### 8. In this question, you're going to create some plots to show the distribution of GDP per capita for the year 2020. Go to the Python Graph Gallery (https://www.python-graph-gallery.com/) and look at the different types of plots under the Distribution section. Create a histogram, a density plot, a boxplot, and a violin plot. What do you notice when you look at these plots? How do the plots compare and what information can you get out of one type that you can't necessarily get out of the others?\n",
    "\n",
    "Boxplot and histogram do not show negative values by default.Density plot shows lists the density of the variable instead of the count or visual representation of the count. "
   ]
  },
  {
   "cell_type": "code",
   "execution_count": null,
   "id": "92040f81",
   "metadata": {},
   "outputs": [],
   "source": [
    "print(\"The median GDP_Per_capita for 2020 is\", gdp2020_df.GDP_Per_capita.median())"
   ]
  },
  {
   "cell_type": "markdown",
   "id": "c89efc35",
   "metadata": {},
   "source": [
    "#### 9. What was the median GDP per capita value in 2020?\n",
    "\n",
    "The median gdp value in 2020 is 12908.9374056206."
   ]
  },
  {
   "cell_type": "code",
   "execution_count": null,
   "id": "aab82994",
   "metadata": {},
   "outputs": [],
   "source": [
    "gdp_decades = gdp_df[(gdp_df.Year == 2020) | (gdp_df.Year == 2010) | (gdp_df.Year == 2000) | (gdp_df.Year == 1990)]\n"
   ]
  },
  {
   "cell_type": "markdown",
   "id": "1c26f8a5",
   "metadata": {},
   "source": [
    "Above code subsets the gdp_df DataFrame to a new frame called gdp_decades using the | operator to signify the 'or' condition. \n",
    "\n",
    "When filtering for multiple conditions:\n",
    "\n",
    "| = or, & = and, ~ = not "
   ]
  },
  {
   "cell_type": "code",
   "execution_count": null,
   "id": "363e92eb",
   "metadata": {},
   "outputs": [],
   "source": [
    "gdp_decades"
   ]
  },
  {
   "cell_type": "code",
   "execution_count": null,
   "id": "0a13a3cd",
   "metadata": {},
   "outputs": [],
   "source": [
    "sns.boxplot( x=gdp_decades[\"Year\"], y=gdp_decades[\"GDP_Per_capita\"] )\n",
    "plt.show()"
   ]
  },
  {
   "cell_type": "markdown",
   "id": "de227f5c",
   "metadata": {},
   "source": [
    "Boxplot of the gdp_decades DataFrame."
   ]
  },
  {
   "cell_type": "code",
   "execution_count": null,
   "id": "ff38e0c8",
   "metadata": {},
   "outputs": [],
   "source": [
    "sns.barplot(x=gdp_decades[\"Year\"], y=gdp_decades[\"GDP_Per_capita\"])"
   ]
  },
  {
   "cell_type": "markdown",
   "id": "a2fffb1e",
   "metadata": {},
   "source": [
    "Barplot of the gdp_decades DataFrame."
   ]
  },
  {
   "cell_type": "code",
   "execution_count": null,
   "id": "06e90b2b",
   "metadata": {},
   "outputs": [],
   "source": [
    "sns.regplot(x=gdp_decades[\"Year\"], y=gdp_decades[\"GDP_Per_capita\"], fit_reg=False)"
   ]
  },
  {
   "cell_type": "markdown",
   "id": "15b6baa8",
   "metadata": {},
   "source": [
    "Scatterplot without a trendline. Linear regression fit is plotted by default."
   ]
  },
  {
   "cell_type": "code",
   "execution_count": null,
   "id": "d4901381",
   "metadata": {},
   "outputs": [],
   "source": [
    "sns.regplot(x=gdp_decades[\"Year\"], y=gdp_decades[\"GDP_Per_capita\"])"
   ]
  },
  {
   "cell_type": "markdown",
   "id": "280976b0",
   "metadata": {},
   "source": [
    "Scatterplot with a linear regression fit plotted by default."
   ]
  },
  {
   "cell_type": "code",
   "execution_count": null,
   "id": "00889357",
   "metadata": {},
   "outputs": [],
   "source": [
    "gdp100k = gdp_df[(gdp_df.GDP_Per_capita >= 100000)]\n",
    "first100k = gdp100k.sort_values(by=['Year']).head(1)"
   ]
  },
  {
   "cell_type": "code",
   "execution_count": null,
   "id": "5d999385",
   "metadata": {},
   "outputs": [],
   "source": [
    "print(\"The first country to have 100k GDP_Per_capita in our dataset is:\", first100k.Country)"
   ]
  },
  {
   "cell_type": "markdown",
   "id": "51da6674",
   "metadata": {},
   "source": [
    "The above code first creates a DataFrame of all entries with a GDP_Per_capita greater than 100000,\n",
    "then sorts by year ascending and limits to just the first result to get our answer. "
   ]
  },
  {
   "cell_type": "markdown",
   "id": "394cf036",
   "metadata": {},
   "source": [
    "#### 11. Which country was the first to have a GDP per capita greater than $100,000?\n",
    "\n",
    "United Arab Emirates was the first country in the data to have a GDP_Per_capita greater than $100,000. The year this happened was 1990."
   ]
  },
  {
   "cell_type": "code",
   "execution_count": null,
   "id": "bec11744",
   "metadata": {},
   "outputs": [],
   "source": [
    "maxgdp2020 = gdp2020_df.GDP_Per_capita.max()\n",
    "maxgdp2020country = gdp2020_df[(gdp2020_df.GDP_Per_capita == maxgdp2020)]\n",
    "maxgdp2020country"
   ]
  },
  {
   "cell_type": "markdown",
   "id": "22a27bfb",
   "metadata": {},
   "source": [
    "Using a previously created DataFrame for 2020 to find the max() GDP_Per_capita of that year and the country associated with it. "
   ]
  },
  {
   "cell_type": "code",
   "execution_count": null,
   "id": "a1dc8057",
   "metadata": {},
   "outputs": [],
   "source": [
    "luxembourg = gdp_df[(gdp_df.Country == 'Luxembourg')]"
   ]
  },
  {
   "cell_type": "markdown",
   "id": "7d7dc10a",
   "metadata": {},
   "source": [
    "Above code creates a DataFrame of all 'Luxembourg' entries."
   ]
  },
  {
   "cell_type": "code",
   "execution_count": null,
   "id": "0fee6f21",
   "metadata": {},
   "outputs": [],
   "source": [
    "sns.lineplot(x=luxembourg.Year, y=luxembourg.GDP_Per_capita)"
   ]
  },
  {
   "cell_type": "markdown",
   "id": "2993eaf9",
   "metadata": {},
   "source": [
    "Above code generates a lineplot for Luxembourgs GDP_Per_capita by Year."
   ]
  },
  {
   "cell_type": "markdown",
   "id": "50fef361",
   "metadata": {},
   "source": [
    "#### 12. Which country had the highest GDP per capita in 2020? Create a plot showing how this country's GDP per capita has changed over the timespan of the dataset.\n",
    "\n",
    "Luxembourg had the highest GDP_Per_capita for the year 2020. I chose to plot this on a lineplot as it's generally accepted as the best method to visualize simple changes over time."
   ]
  },
  {
   "cell_type": "code",
   "execution_count": null,
   "id": "3d56b3c8",
   "metadata": {},
   "outputs": [],
   "source": [
    "mingdp2020 = gdp2020_df.GDP_Per_capita.min()\n",
    "mingdp2020country = gdp2020_df[(gdp2020_df.GDP_Per_capita == mingdp2020)]\n",
    "mingdp2020country"
   ]
  },
  {
   "cell_type": "code",
   "execution_count": null,
   "id": "bbc9bc90",
   "metadata": {},
   "outputs": [],
   "source": [
    "burundi = gdp_df[(gdp_df.Country == 'Burundi')]"
   ]
  },
  {
   "cell_type": "markdown",
   "id": "9bad0cd7",
   "metadata": {},
   "source": [
    "Repeating the steps above for the minimum GDP_Per_capita country in 2020, creating a dataframe of all years associated with Burundi."
   ]
  },
  {
   "cell_type": "code",
   "execution_count": null,
   "id": "dc07ca7d",
   "metadata": {},
   "outputs": [],
   "source": [
    "sns.lineplot(x=burundi.Year, y=burundi.GDP_Per_capita)"
   ]
  },
  {
   "cell_type": "markdown",
   "id": "d4843c4b",
   "metadata": {},
   "source": [
    "Again, chose the lineplot to show how Burundi's GDP_Per_capita has changed over time. "
   ]
  },
  {
   "cell_type": "markdown",
   "id": "0de325cc",
   "metadata": {},
   "source": [
    "#### 13. Which country had the lowest GDP per capita in 2020? Create a plot showing how this country's GDP per capita has changed over the timespan of the dataset.\n",
    "\n",
    "Burundi had the lowest GDP_Per_capita for 2020."
   ]
  },
  {
   "cell_type": "markdown",
   "id": "77e15e93",
   "metadata": {},
   "source": [
    "#### **Bonus question:** Is it true in general that countries had a higher GDP per capita in 2020 than in 1990? Which countries had lower GDP per capita in 2020 than in 1990?"
   ]
  },
  {
   "cell_type": "code",
   "execution_count": null,
   "id": "e5b6a8ec",
   "metadata": {},
   "outputs": [],
   "source": [
    "gdpcompare = gdp_df[(gdp_df.Year == 1990) | (gdp_df.Year == 2020)]\n",
    "gdp1990_df = gdp_df[(gdp_df.Year == 1990)]"
   ]
  },
  {
   "cell_type": "markdown",
   "id": "bb6553c7",
   "metadata": {},
   "source": [
    "Creating a DataFrame for 1990 and 2020 combined to start comparisons between the two years.\n",
    "\n",
    "Created an additional DataFrame for just the year 1990."
   ]
  },
  {
   "cell_type": "code",
   "execution_count": null,
   "id": "edcf1950",
   "metadata": {},
   "outputs": [],
   "source": [
    "sns.lineplot(x=gdpcompare.Year, y=gdpcompare.GDP_Per_capita)"
   ]
  },
  {
   "cell_type": "markdown",
   "id": "f29d3f7f",
   "metadata": {},
   "source": [
    "GDP_Per_capita does trend upwards from 1990 to 2020. Can't find the best method to graph it, although a linechart does show the upward trend."
   ]
  },
  {
   "cell_type": "markdown",
   "id": "8fad88ee",
   "metadata": {},
   "source": [
    "# Revisit the second portion of question 13 to find which countries had lower GDP_Per_capita in 2020.\n",
    "\n",
    "Revisiting below."
   ]
  },
  {
   "cell_type": "code",
   "execution_count": null,
   "id": "aabe923a",
   "metadata": {
    "scrolled": true
   },
   "outputs": [],
   "source": [
    "gdpcomparemerged = pd.merge(gdp2020_df, gdp1990_df, on=['Country'], how='left')"
   ]
  },
  {
   "cell_type": "markdown",
   "id": "e7672bbd",
   "metadata": {},
   "source": [
    "Above code merges the two different years on 'Country' so I can make the necessary comparison to find who had a greater GDP in 1990 than 2020."
   ]
  },
  {
   "cell_type": "code",
   "execution_count": null,
   "id": "ffdcd0a4",
   "metadata": {},
   "outputs": [],
   "source": [
    "gdpcomparemerged.columns = ['Country', 'Year2020', 'GDP2020', 'Year1990', 'GDP1990']\n",
    "gdpcomparemerged = gdpcomparemerged.fillna(0)\n",
    "gdpcomparemerged['Year1990int'] = gdpcomparemerged.Year1990.astype(int)\n",
    "gdpcomparemerged = gdpcomparemerged.drop(columns = 'Year1990')\n",
    "gdpcomparemerged.info()"
   ]
  },
  {
   "cell_type": "markdown",
   "id": "a86c3066",
   "metadata": {},
   "source": [
    "Above code is renaming the columns so I can more easily compare the two years. "
   ]
  },
  {
   "cell_type": "code",
   "execution_count": null,
   "id": "6ab8c9af",
   "metadata": {},
   "outputs": [],
   "source": [
    "gdpcomparemerged.columns = ['Country', 'Year2020', 'GDP2020', 'GDP1990', 'Year1990']"
   ]
  },
  {
   "cell_type": "markdown",
   "id": "1171f5a2",
   "metadata": {},
   "source": [
    "Renaming the columns again to get the appropriate labels."
   ]
  },
  {
   "cell_type": "code",
   "execution_count": null,
   "id": "c6af3b53",
   "metadata": {},
   "outputs": [],
   "source": [
    "gdphigher1990 = gdpcomparemerged[(gdpcomparemerged.GDP1990 > gdpcomparemerged.GDP2020)]\n",
    "print(gdphigher1990.Country)"
   ]
  },
  {
   "cell_type": "markdown",
   "id": "6a7c92ac",
   "metadata": {},
   "source": [
    "#### Which countries had lower GDP per capita in 2020 than in 1990?\n",
    "\n",
    "The above code returns a list of all countries with a lower GDP_Per_capita in 2020 than in 1990. There are 22 countries or regions reporting a greater GDP_Per_capita in 1990. "
   ]
  },
  {
   "cell_type": "code",
   "execution_count": null,
   "id": "b56362ad",
   "metadata": {},
   "outputs": [],
   "source": [
    "internet_df = pd.read_csv(\"..\\data\\internet_use.csv\", nrows=4495)"
   ]
  },
  {
   "cell_type": "markdown",
   "id": "01017738",
   "metadata": {},
   "source": [
    "reading in internet_use.csv, initially pulled an error. Investigated the file, found the dictionary of footnotes at the bottom, only imported rows existing before the footnotes. "
   ]
  },
  {
   "cell_type": "code",
   "execution_count": null,
   "id": "1e194a47",
   "metadata": {},
   "outputs": [],
   "source": [
    "internet_df"
   ]
  },
  {
   "cell_type": "code",
   "execution_count": null,
   "id": "78f84d4f",
   "metadata": {},
   "outputs": [],
   "source": [
    "internet_df.info()"
   ]
  },
  {
   "cell_type": "markdown",
   "id": "08213492",
   "metadata": {},
   "source": [
    "Above codes are checking datatypes and format of the DataFrame"
   ]
  },
  {
   "cell_type": "code",
   "execution_count": null,
   "id": "b77b44b9",
   "metadata": {},
   "outputs": [],
   "source": [
    "internet_df = internet_df.drop(columns = 'Value Footnotes')"
   ]
  },
  {
   "cell_type": "code",
   "execution_count": null,
   "id": "375a736c",
   "metadata": {},
   "outputs": [],
   "source": [
    "internet_df.columns = ['Country', 'Year', 'Internet_Users_Pct']"
   ]
  },
  {
   "cell_type": "markdown",
   "id": "c2e448e1",
   "metadata": {},
   "source": [
    "Above code drops footnotes column and renames the remaining columns. "
   ]
  },
  {
   "cell_type": "code",
   "execution_count": null,
   "id": "42aa67af",
   "metadata": {
    "scrolled": false
   },
   "outputs": [],
   "source": [
    "internet_df.Year.value_counts()"
   ]
  },
  {
   "cell_type": "markdown",
   "id": "e839be36",
   "metadata": {},
   "source": [
    "above code lists the number of observations per year of the DataFrame."
   ]
  },
  {
   "cell_type": "markdown",
   "id": "2e4cd5b8",
   "metadata": {},
   "source": [
    "#### 16. Look at the number of observations in this dataset per year. What do you notice?\n",
    "\n",
    "Internet use has been reported for more UN members each year since the beginning of the dataset with the exception of a few years where the number reported stayed the same. "
   ]
  },
  {
   "cell_type": "code",
   "execution_count": null,
   "id": "43ca3a5d",
   "metadata": {},
   "outputs": [],
   "source": [
    "nonzerointernet = internet_df[(internet_df.Internet_Users_Pct > 0)]\n",
    "firstnonzerointernet = nonzerointernet.sort_values(by=['Year', 'Internet_Users_Pct'])\n",
    "firstnonzerointernet.head(20)"
   ]
  },
  {
   "cell_type": "markdown",
   "id": "eb558687",
   "metadata": {},
   "source": [
    "#### 17. What is the first year to have a non-zero internet users percentage value?\n",
    "\n",
    "Above code finds all instances of Internet_Users_Pct greater than 0, then sorts by 'Year' and 'Internet_Users_Pct'. There are 19 countries reporting a greater than 0 'Internet_Users_Pct' in 1990. "
   ]
  },
  {
   "cell_type": "code",
   "execution_count": null,
   "id": "b96eb3df",
   "metadata": {},
   "outputs": [],
   "source": [
    "internet2014 = internet_df[(internet_df.Year == 2014)]\n",
    "internet2000 = internet_df[(internet_df.Year == 2000)]"
   ]
  },
  {
   "cell_type": "markdown",
   "id": "dcf831e4",
   "metadata": {},
   "source": [
    "Creating frames of internet for the years 2000 and 2014. "
   ]
  },
  {
   "cell_type": "code",
   "execution_count": null,
   "id": "1af7f791",
   "metadata": {},
   "outputs": [],
   "source": [
    "sns.histplot(data=internet2014, x=\"Internet_Users_Pct\", color=\"blue\", label=\"2014\")\n",
    "sns.histplot(data=internet2000, x=\"Internet_Users_Pct\", color=\"red\", label=\"2000\")\n",
    "plt.legend()"
   ]
  },
  {
   "cell_type": "markdown",
   "id": "df8c10d0",
   "metadata": {},
   "source": [
    "#### 18. How does the distribution of internet users percent differ for 2000 and 2014?\n",
    "\n",
    "Above code plots a histogram of years 2000 and 2014. In the year 2000, the majority of reports still fell under 20%. In 2014, the majority of reports are now over 20%."
   ]
  },
  {
   "cell_type": "code",
   "execution_count": null,
   "id": "ebadb12e",
   "metadata": {},
   "outputs": [],
   "source": [
    "under5pct2014 = internet2014[(internet2014.Internet_Users_Pct < 5)]\n",
    "under5pct2014.shape"
   ]
  },
  {
   "cell_type": "markdown",
   "id": "be4ecd4a",
   "metadata": {},
   "source": [
    "Above code is subsetting the internet2014 dataframe to only those with <5% Internet_Users_Pct and reporting the shape of the new set where 16 rows represent 16 different countries. "
   ]
  },
  {
   "cell_type": "markdown",
   "id": "2f38de45",
   "metadata": {},
   "source": [
    "#### 19. For how many countries was the percentage of internet users below 5% in 2014?\n",
    "\n",
    "There were 16 countries in the year 2014 with a Internet_Users_Pct below 5%."
   ]
  },
  {
   "cell_type": "code",
   "execution_count": null,
   "id": "d38e399a",
   "metadata": {},
   "outputs": [],
   "source": [
    "gdp_and_internet_use = pd.merge(gdp_df, internet_df, on=['Year', 'Country'], how='outer')"
   ]
  },
  {
   "cell_type": "code",
   "execution_count": null,
   "id": "5d3d8e1e",
   "metadata": {},
   "outputs": [],
   "source": [
    "gdp_and_internet_use = gdp_and_internet_use.sort_values(['Country','Year']).reset_index(drop = True)"
   ]
  },
  {
   "cell_type": "code",
   "execution_count": null,
   "id": "ec89c231",
   "metadata": {},
   "outputs": [],
   "source": [
    "gdp_and_internet_use"
   ]
  },
  {
   "cell_type": "markdown",
   "id": "8f990da3",
   "metadata": {},
   "source": [
    "Above code merges the two dataframes, maintaining all rows from both. Initially I didn't think it merged appropriately, after further investigation it appears to be an issue of indexing. I wrongfully assumed the new list was ordered alphabetically, it was not. After sorting the new table on country and year, I have the format that I expected. "
   ]
  },
  {
   "cell_type": "code",
   "execution_count": null,
   "id": "18a2054b",
   "metadata": {},
   "outputs": [],
   "source": [
    "gdp_and_internet_use_2014 = gdp_and_internet_use[(gdp_and_internet_use.Year == 2014)]"
   ]
  },
  {
   "cell_type": "markdown",
   "id": "432fc126",
   "metadata": {},
   "source": [
    "Subsetting the gdp_and_internet_use frame to just the year 2014"
   ]
  },
  {
   "cell_type": "code",
   "execution_count": null,
   "id": "7ee0af72",
   "metadata": {},
   "outputs": [],
   "source": [
    "top3_gdp_and_internet2014 = gdp_and_internet_use_2014.sort_values('Internet_Users_Pct',ascending=False).head(3)"
   ]
  },
  {
   "cell_type": "markdown",
   "id": "1a0fcd37",
   "metadata": {},
   "source": [
    "Finding the top 3 countries by Internet_Users_Pct for 2014"
   ]
  },
  {
   "cell_type": "code",
   "execution_count": null,
   "id": "653e2441",
   "metadata": {},
   "outputs": [],
   "source": [
    "top3countries2014list = top3_gdp_and_internet2014.Country.tolist()"
   ]
  },
  {
   "cell_type": "markdown",
   "id": "50bb0930",
   "metadata": {},
   "source": [
    "Converting the column Country from the top3_gdp_and_internet2014 to a list. "
   ]
  },
  {
   "cell_type": "code",
   "execution_count": null,
   "id": "b6f4349d",
   "metadata": {},
   "outputs": [],
   "source": [
    "top3countries2014list"
   ]
  },
  {
   "cell_type": "code",
   "execution_count": null,
   "id": "c033b603",
   "metadata": {},
   "outputs": [],
   "source": [
    "top3countries_all = gdp_and_internet_use[(gdp_and_internet_use.Country.isin(top3countries2014list))]\n",
    "top3countries_all"
   ]
  },
  {
   "cell_type": "markdown",
   "id": "5d3b3a49",
   "metadata": {},
   "source": [
    "Creating a new dataframe of all the available information from the countries listed in top3countries2014list in preparation to plot them."
   ]
  },
  {
   "cell_type": "code",
   "execution_count": null,
   "id": "3e40c49f",
   "metadata": {},
   "outputs": [],
   "source": [
    "facetgrid = sns.FacetGrid(data=top3countries_all, col=\"Country\")\n",
    "facetgrid.map(sns.scatterplot, \"Year\", \"GDP_Per_capita\")"
   ]
  },
  {
   "cell_type": "markdown",
   "id": "6603055f",
   "metadata": {},
   "source": [
    "The above code generates a scatterplot in a facetgrid layout of the historical GDP_Per_capita of the top 3 countries by internet_users_pct in 2014."
   ]
  },
  {
   "cell_type": "markdown",
   "id": "feb0da37",
   "metadata": {},
   "source": [
    "#### 21. Find the three countries with the highest internet users percentage in 2014. Use a seaborn FacetGrid (https://seaborn.pydata.org/generated/seaborn.FacetGrid.html) to compare how the GDP per capita has changed over time for these three countries. What do you notice?\n",
    "\n",
    "The countries all have a dip just before the year 2010, presumably due to the 2008 market crash. Iceland and Norway recovered quickly, Bermuda has yet to recover. "
   ]
  },
  {
   "cell_type": "code",
   "execution_count": null,
   "id": "c5f54c45",
   "metadata": {
    "scrolled": false
   },
   "outputs": [],
   "source": [
    "sns.regplot(x=gdp_and_internet_use_2014.GDP_Per_capita, y=gdp_and_internet_use_2014.Internet_Users_Pct)"
   ]
  },
  {
   "cell_type": "markdown",
   "id": "bcbea5cf",
   "metadata": {},
   "source": [
    "Above code creates a scatter plot of countries GDP_Per_capita and Internet_Users_Pct for the year 2014. There appears to be a standout in the data at >100000 GDP_Per_capita, but the ceiling for Internet_Users_Pct is 100, so anything that is near 100 Internet_Users_Pct but outside of the average GDP_Per_capita may look unusual as plotted. \n",
    "\n",
    "There is an additional standout in the ~30k-40k GDP_Per_capita metric, it has an unusually low amount of Internet_Users compared to others in it's bracket. Will additionally explore that set."
   ]
  },
  {
   "cell_type": "code",
   "execution_count": null,
   "id": "85fb8d1b",
   "metadata": {},
   "outputs": [],
   "source": [
    "gdpinternet2014_30k = gdp_and_internet_use_2014[(gdp_and_internet_use_2014.GDP_Per_capita > 30000) \n",
    "                                                & (gdp_and_internet_use_2014.GDP_Per_capita < 40000)]\n",
    "gdpinternet2014_30k"
   ]
  },
  {
   "cell_type": "markdown",
   "id": "266d5cae",
   "metadata": {},
   "source": [
    "Above code is exploring the entries between 30k and 40k GDP_Per_capita to find the outlier in the previously created scatterplot. Equatorial Guinea has an abnormally low Internet_Users_Pct for its GDP_Per_capita."
   ]
  },
  {
   "cell_type": "markdown",
   "id": "8d0d2d08",
   "metadata": {},
   "source": [
    "#### 23. Create a plot which compares Internet Users Percentage and GDP per Capita for the year 2014. What do you notice from this plot? If you see any unusual points, investigate them.\n",
    "\n",
    "There are data points that appear to be outliers on the scatterplot, however it is only visually so. As Internet_Users_Pct only goes up to 100, anything with a significantly above average GDP_Per_capita and high Internet_Users_Pct will breakaway from the rest of the dataset towards the right. \n",
    "\n",
    "Additionaly, in the 30-40k GDP_Per_capita there is a country with a significantly lower Internet_Users_Pct, creating a new subset of data for all entries between 30-40k lets me see that Equatorial Guinea is the outlier, with a 18.86 Internet_Users_Pct. Unsure why they have such a low Internet_Users_Pct and insufficient knowledge to hypothesize. "
   ]
  },
  {
   "cell_type": "code",
   "execution_count": null,
   "id": "a3a30926",
   "metadata": {},
   "outputs": [],
   "source": [
    "gdp_and_internet_use_2014['GDP_group'] = pd.qcut(gdp_and_internet_use_2014.GDP_Per_capita, q=3, labels=['Low', 'Medium', 'High'])\n",
    "gdp_and_internet_use_2014"
   ]
  },
  {
   "cell_type": "markdown",
   "id": "847b18da",
   "metadata": {},
   "source": [
    "Above code is creating 3 quantiles for the gdp_and_internet_use_2014 dataframe, dividing them into equal sized 'buckets' by count of entries, not value of entries. Warnings are expected, and assuming the output LOOKS correct, it's safe to assume that they can be ignored in most circumstances. "
   ]
  },
  {
   "cell_type": "code",
   "execution_count": null,
   "id": "b205c482",
   "metadata": {},
   "outputs": [],
   "source": [
    "median_internet_users_pct_by_gdp_group = gdp_and_internet_use_2014.groupby('GDP_group').median()\n",
    "median_internet_users_pct_by_gdp_group"
   ]
  },
  {
   "cell_type": "markdown",
   "id": "1be8aa09",
   "metadata": {},
   "source": [
    "Above code is calculating median by the newly created groups."
   ]
  },
  {
   "cell_type": "code",
   "execution_count": null,
   "id": "10d62f5b",
   "metadata": {},
   "outputs": [],
   "source": [
    "median_internet_users_pct_by_gdp_group.columns = ['Year', 'Median_GDP_Per_capita', 'Median_Internet_Users_Pct']"
   ]
  },
  {
   "cell_type": "markdown",
   "id": "0ba61f7c",
   "metadata": {},
   "source": [
    "Above code is renaming colums to better represent the data displayed."
   ]
  },
  {
   "cell_type": "code",
   "execution_count": null,
   "id": "55d698d3",
   "metadata": {},
   "outputs": [],
   "source": [
    "median_internet_users_pct_by_gdp_group"
   ]
  },
  {
   "cell_type": "markdown",
   "id": "bef8a9c9",
   "metadata": {},
   "source": [
    "#### 25. **Stretch Question:** How does the median internet users percentage compare for the three gdp groups?\n",
    "\n",
    "Median internet users percentage goes up as GDP_Per_capita increases."
   ]
  },
  {
   "cell_type": "code",
   "execution_count": null,
   "id": "4edd131b",
   "metadata": {},
   "outputs": [],
   "source": []
  }
 ],
 "metadata": {
  "kernelspec": {
   "display_name": "Python 3 (ipykernel)",
   "language": "python",
   "name": "python3"
  },
  "language_info": {
   "codemirror_mode": {
    "name": "ipython",
    "version": 3
   },
   "file_extension": ".py",
   "mimetype": "text/x-python",
   "name": "python",
   "nbconvert_exporter": "python",
   "pygments_lexer": "ipython3",
   "version": "3.9.13"
  }
 },
 "nbformat": 4,
 "nbformat_minor": 5
}
